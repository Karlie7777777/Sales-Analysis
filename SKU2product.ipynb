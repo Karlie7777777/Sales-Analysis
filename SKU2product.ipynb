{
 "cells": [
  {
   "cell_type": "code",
   "execution_count": 1,
   "metadata": {},
   "outputs": [],
   "source": [
    "import pandas as pd"
   ]
  },
  {
   "cell_type": "code",
   "execution_count": 46,
   "metadata": {},
   "outputs": [],
   "source": [
    "df = pd.read_csv(\"Cleaned_V1.csv\")"
   ]
  },
  {
   "cell_type": "code",
   "execution_count": 2,
   "metadata": {},
   "outputs": [],
   "source": [
    "df.shape"
   ]
  },
  {
   "cell_type": "markdown",
   "metadata": {},
   "source": [
    "### Group sku to product"
   ]
  },
  {
   "cell_type": "code",
   "execution_count": 4,
   "metadata": {},
   "outputs": [],
   "source": [
    "## delete the record with FALSE variant_sku\n",
    "df = df.drop(54)"
   ]
  },
  {
   "cell_type": "code",
   "execution_count": 1,
   "metadata": {},
   "outputs": [],
   "source": [
    "df[\"grouped_product\"] = df[\"variant_sku\"].apply(lambda x: int(x[0:2]) if type(x)==str else \"\")\n",
    "def create_name(group):\n",
    "    if group == 21:\n",
    "        name = \"Women's +20\"\n",
    "    elif group == 41:\n",
    "        name = \"Women's +40\"\n",
    "    elif group == 40:\n",
    "        name = \"Men's +40\"\n",
    "    elif group == 20:\n",
    "        name = \"Men's +20\"\n",
    "    elif group == 22:\n",
    "        name = \"Petite Women's +20\"\n",
    "    elif group == 24:\n",
    "        name = \"Petite Women's +40\"\n",
    "    else:\n",
    "        name = \"\"\n",
    "    return name\n",
    "df[\"product_name\"] = df[\"grouped_product\"].apply(create_name)\n",
    "df[\"product_name\"].value_counts()"
   ]
  },
  {
   "cell_type": "markdown",
   "metadata": {},
   "source": [
    "### Modify Zipcode"
   ]
  },
  {
   "cell_type": "code",
   "execution_count": 20,
   "metadata": {},
   "outputs": [],
   "source": [
    "def modify_zipcode(zipcode):\n",
    "    new_zip = 0\n",
    "    if zipcode == \"93807\":\n",
    "        new_zip = \"92807\"\n",
    "    elif zipcode == \"91491\":\n",
    "        new_zip = \"91403\"\n",
    "    elif zipcode == \"96251\":\n",
    "        new_zip = \"96267\"\n",
    "    elif zipcode == \"606041\":\n",
    "        new_zip = \"60641\"\n",
    "    elif zipcode == \"60483\":\n",
    "        new_zip = \"60438\"\n",
    "    elif zipcode == \"75036\":\n",
    "        new_zip = \"75035\"\n",
    "    else:\n",
    "        new_zip = zipcode\n",
    "    return new_zip\n",
    "df[\"shipping_postal_code\"] = df[\"shipping_postal_code\"].apply(modify_zipcode)\n",
    "df[\"billing_postal_code\"] = df[\"billing_postal_code\"].apply(modify_zipcode)\n",
    "\n",
    "(\"92807\" in set(df[\"billing_postal_code\"]),\n",
    "\"91403\" in set(df[\"billing_postal_code\"]),\n",
    "\"96267\" in set(df[\"billing_postal_code\"]),\n",
    "\"60641\" in set(df[\"billing_postal_code\"]),\n",
    "\"60438\" in set(df[\"billing_postal_code\"]),\n",
    "\"75035\" in set(df[\"billing_postal_code\"]))"
   ]
  },
  {
   "cell_type": "code",
   "execution_count": null,
   "metadata": {},
   "outputs": [],
   "source": [
    "df.to_csv(\"Cleaned_V1.csv\",index=False)"
   ]
  },
  {
   "cell_type": "markdown",
   "metadata": {},
   "source": [
    "### Split zipcode"
   ]
  },
  {
   "cell_type": "code",
   "execution_count": 50,
   "metadata": {},
   "outputs": [],
   "source": [
    "def split_zipcode(zipcode):\n",
    "    new_zip = \"\"\n",
    "    if type(zipcode) == str: #zipcode exists\n",
    "        if zipcode.find(\"-\")==5: # there's \"-\"\n",
    "            new_zip = zipcode.split(\"-\")[0]\n",
    "        else: #there's no \"-\" in string zipcode\n",
    "            new_zip = zipcode\n",
    "    else: #empty zipcode\n",
    "        new_zip = zipcode\n",
    "    return new_zip"
   ]
  },
  {
   "cell_type": "code",
   "execution_count": 51,
   "metadata": {},
   "outputs": [],
   "source": [
    "df.billing_postal_code = df.billing_postal_code.apply(split_zipcode)"
   ]
  },
  {
   "cell_type": "code",
   "execution_count": 55,
   "metadata": {},
   "outputs": [],
   "source": [
    "df.billing_postal_code.replace({\"331266070\":\"33126\"},inplace = True)"
   ]
  },
  {
   "cell_type": "code",
   "execution_count": 19,
   "metadata": {},
   "outputs": [],
   "source": [
    "df.billing_postal_code.value_counts()"
   ]
  },
  {
   "cell_type": "code",
   "execution_count": 62,
   "metadata": {},
   "outputs": [],
   "source": [
    "df.shipping_postal_code = df.shipping_postal_code.apply(split_zipcode)"
   ]
  },
  {
   "cell_type": "code",
   "execution_count": 63,
   "metadata": {},
   "outputs": [],
   "source": [
    "df.to_csv(\"Cleaned_V1.csv\",index=False)"
   ]
  },
  {
   "cell_type": "markdown",
   "metadata": {},
   "source": [
    "### Join dataset :)"
   ]
  },
  {
   "cell_type": "code",
   "execution_count": 7,
   "metadata": {},
   "outputs": [],
   "source": [
    "df_1 = pd.read_csv(\"Cleaned_V1.csv\")\n",
    "df_2 = pd.read_csv(\"USZipCodes_subset.csv\")\n",
    "df_2.Zipcode = df_2.Zipcode.apply(lambda x: str(x))\n",
    "result = pd.merge(df_1, df_2, left_on='billing_postal_code', right_on = \"Zipcode\", how='left')"
   ]
  },
  {
   "cell_type": "code",
   "execution_count": 18,
   "metadata": {},
   "outputs": [],
   "source": [
    "result.tail()"
   ]
  },
  {
   "cell_type": "code",
   "execution_count": 10,
   "metadata": {},
   "outputs": [],
   "source": [
    "result.to_csv(\"V1_Zip.csv\",index=False)"
   ]
  },
  {
   "cell_type": "markdown",
   "metadata": {},
   "source": [
    "### Group sku to product with size"
   ]
  },
  {
   "cell_type": "code",
   "execution_count": 13,
   "metadata": {},
   "outputs": [],
   "source": [
    "df = pd.read_csv(\"V1_Zip.csv\")"
   ]
  },
  {
   "cell_type": "code",
   "execution_count": 17,
   "metadata": {},
   "outputs": [],
   "source": [
    "df.head(1)"
   ]
  },
  {
   "cell_type": "code",
   "execution_count": 16,
   "metadata": {},
   "outputs": [],
   "source": [
    "df.columns"
   ]
  },
  {
   "cell_type": "code",
   "execution_count": 24,
   "metadata": {},
   "outputs": [],
   "source": [
    "df_sku = pd.read_excel(\"AGOGIE SKU - UPC.xlsx\")"
   ]
  },
  {
   "cell_type": "code",
   "execution_count": 15,
   "metadata": {},
   "outputs": [],
   "source": [
    "df_sku.head(5)"
   ]
  },
  {
   "cell_type": "code",
   "execution_count": 26,
   "metadata": {},
   "outputs": [],
   "source": [
    "df_sku.columns = df_sku.iloc[2]"
   ]
  },
  {
   "cell_type": "code",
   "execution_count": 14,
   "metadata": {},
   "outputs": [],
   "source": [
    "df_sku.head(5)"
   ]
  },
  {
   "cell_type": "code",
   "execution_count": 28,
   "metadata": {},
   "outputs": [],
   "source": [
    "df_sku = df_sku.drop([0,1,2])"
   ]
  },
  {
   "cell_type": "code",
   "execution_count": 13,
   "metadata": {},
   "outputs": [],
   "source": [
    "df_sku.head(3)"
   ]
  },
  {
   "cell_type": "code",
   "execution_count": 48,
   "metadata": {},
   "outputs": [],
   "source": [
    "df_sku_men = df_sku[['Item#_M','Description_M','UPC#_M']]\n",
    "df_sku_men = df_sku_men.reset_index(drop=True)\n",
    "df_sku_men = df_sku_men.drop([7,15,23,31,39,40])\n",
    "df_sku_men = df_sku_men.reset_index(drop=True)"
   ]
  },
  {
   "cell_type": "code",
   "execution_count": 12,
   "metadata": {},
   "outputs": [],
   "source": [
    "df_sku_men"
   ]
  },
  {
   "cell_type": "code",
   "execution_count": 59,
   "metadata": {},
   "outputs": [],
   "source": [
    "df_sku_women = df_sku[['Item#_W','Description_W','UPC#_W']]\n",
    "df_sku_women = df_sku_women.reset_index(drop=True)\n",
    "df_sku_women = df_sku_women.drop([6,7,15,22,23])\n",
    "df_sku_women = df_sku_women.reset_index(drop=True)\n",
    "df_sku_women = df_sku_women.iloc[0:26]"
   ]
  },
  {
   "cell_type": "code",
   "execution_count": 11,
   "metadata": {},
   "outputs": [],
   "source": [
    "df_sku_women"
   ]
  },
  {
   "cell_type": "code",
   "execution_count": 71,
   "metadata": {},
   "outputs": [],
   "source": [
    "df_sku_petite = df_sku[['Item#_P','Description_P','UPC#_P']]\n",
    "df_sku_petite = df_sku_petite.drop(10)\n",
    "df_sku_petite = df_sku_petite.reset_index(drop=True)\n",
    "df_sku_petite = df_sku_petite.iloc[0:14]"
   ]
  },
  {
   "cell_type": "code",
   "execution_count": 10,
   "metadata": {},
   "outputs": [],
   "source": [
    "df_sku_petite"
   ]
  },
  {
   "cell_type": "code",
   "execution_count": 9,
   "metadata": {},
   "outputs": [],
   "source": [
    "size_dic = {}\n",
    "def sku2size(row): #size:'Women's Petite XS +20'\n",
    "    size_dic[row['Item#_M']] = row['Description_M']\n",
    "df_sku_men.apply(sku2size,axis=1) \n",
    "size_dic"
   ]
  },
  {
   "cell_type": "code",
   "execution_count": 8,
   "metadata": {},
   "outputs": [],
   "source": [
    "def sku2size(row): #size:'Women's Petite XS +20'\n",
    "    size_dic[str(row['Item#_W'])] = row['Description_W']\n",
    "df_sku_women.apply(sku2size,axis=1) \n",
    "size_dic"
   ]
  },
  {
   "cell_type": "code",
   "execution_count": 7,
   "metadata": {},
   "outputs": [],
   "source": [
    "def sku2size(row): #size:'Women's Petite XS +20'\n",
    "    size_dic[row['Item#_P']] = row['Description_P']\n",
    "df_sku_petite.apply(sku2size,axis=1) \n",
    "size_dic"
   ]
  },
  {
   "cell_type": "code",
   "execution_count": 6,
   "metadata": {},
   "outputs": [],
   "source": [
    "size_dic['41700']"
   ]
  },
  {
   "cell_type": "code",
   "execution_count": 5,
   "metadata": {},
   "outputs": [],
   "source": [
    "str(int(df.variant_sku[13752]))"
   ]
  },
  {
   "cell_type": "code",
   "execution_count": 105,
   "metadata": {},
   "outputs": [],
   "source": [
    "def variant_sku2size(row): #size:'Women's Petite XS +20'\n",
    "    size = size_dic[str(int(row['variant_sku']))] #variant_sku\n",
    "    return size"
   ]
  },
  {
   "cell_type": "code",
   "execution_count": 111,
   "metadata": {},
   "outputs": [],
   "source": [
    "df_sku_men.columns = ['Item#','Description','UPC#']\n",
    "df_sku_women.columns = ['Item#','Description','UPC#']\n",
    "df_sku_petite.columns = ['Item#','Description','UPC#']\n",
    "frames = [df_sku_men,df_sku_women,df_sku_petite]\n",
    "df_skus = pd.concat(frames)"
   ]
  },
  {
   "cell_type": "code",
   "execution_count": 4,
   "metadata": {},
   "outputs": [],
   "source": [
    "df_skus"
   ]
  },
  {
   "cell_type": "code",
   "execution_count": 113,
   "metadata": {},
   "outputs": [],
   "source": [
    "df_skus.to_csv(\"sku2sizeprod.csv\",index=False)"
   ]
  },
  {
   "cell_type": "code",
   "execution_count": null,
   "metadata": {},
   "outputs": [],
   "source": []
  }
 ],
 "metadata": {
  "kernelspec": {
   "display_name": "Python 3",
   "language": "python",
   "name": "python3"
  },
  "language_info": {
   "codemirror_mode": {
    "name": "ipython",
    "version": 3
   },
   "file_extension": ".py",
   "mimetype": "text/x-python",
   "name": "python",
   "nbconvert_exporter": "python",
   "pygments_lexer": "ipython3",
   "version": "3.7.6"
  }
 },
 "nbformat": 4,
 "nbformat_minor": 4
}
