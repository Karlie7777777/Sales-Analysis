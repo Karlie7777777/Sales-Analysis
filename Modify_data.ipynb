{
 "cells": [
  {
   "cell_type": "code",
   "execution_count": 69,
   "metadata": {},
   "outputs": [],
   "source": [
    "import pandas as pd\n",
    "import numpy as np\n",
    "from collections import Counter"
   ]
  },
  {
   "cell_type": "code",
   "execution_count": 70,
   "metadata": {},
   "outputs": [],
   "source": [
    "df = pd.read_csv(\"sales_2017-01-01_2020-05-07.csv\")"
   ]
  },
  {
   "cell_type": "code",
   "execution_count": 71,
   "metadata": {},
   "outputs": [
    {
     "data": {
      "text/plain": [
       "(13758, 37)"
      ]
     },
     "execution_count": 71,
     "metadata": {},
     "output_type": "execute_result"
    }
   ],
   "source": [
    "df.shape"
   ]
  },
  {
   "cell_type": "code",
   "execution_count": 4,
   "metadata": {},
   "outputs": [
    {
     "data": {
      "text/plain": [
       "paid        10\n",
       "refunded     4\n",
       "Name: financial_status, dtype: int64"
      ]
     },
     "execution_count": 4,
     "metadata": {},
     "output_type": "execute_result"
    }
   ],
   "source": [
    "df[df[\"billing_country\"]==\"China\"].financial_status.value_counts()"
   ]
  },
  {
   "cell_type": "code",
   "execution_count": 21,
   "metadata": {},
   "outputs": [
    {
     "data": {
      "text/plain": [
       "{'10', '20', '21', '22', '24', '40', '41', '42', '90', '94'}"
      ]
     },
     "execution_count": 21,
     "metadata": {},
     "output_type": "execute_result"
    }
   ],
   "source": [
    "L = []\n",
    "for i in df[\"variant_sku\"].unique()[1:]:\n",
    "    if i is not None:\n",
    "        L.append(i[0:2])\n",
    "set(L)"
   ]
  },
  {
   "cell_type": "markdown",
   "metadata": {},
   "source": [
    "## Group sku\n",
    "### some of order doesn't have the sku record"
   ]
  },
  {
   "cell_type": "code",
   "execution_count": 47,
   "metadata": {},
   "outputs": [],
   "source": [
    "df = pd.read_csv(\"sales_2017-01-01_2020-05-07.csv\")"
   ]
  },
  {
   "cell_type": "code",
   "execution_count": 79,
   "metadata": {},
   "outputs": [],
   "source": [
    "df.loc[df.variant_sku==\"False\",\"variant_sku\"]= 0 #delete the \"FALSE\""
   ]
  },
  {
   "cell_type": "code",
   "execution_count": 80,
   "metadata": {
    "collapsed": true,
    "jupyter": {
     "outputs_hidden": true
    }
   },
   "outputs": [
    {
     "data": {
      "text/plain": [
       "21300    845\n",
       "21200    727\n",
       "21400    563\n",
       "41300    460\n",
       "41200    428\n",
       "21100    367\n",
       "21500    339\n",
       "40600    289\n",
       "41400    278\n",
       "20600    255\n",
       "40500    254\n",
       "21600    247\n",
       "40700    224\n",
       "20700    206\n",
       "41100    195\n",
       "20500    194\n",
       "41500    182\n",
       "21700    181\n",
       "41600    142\n",
       "40400    118\n",
       "41700    102\n",
       "20400     93\n",
       "21800     90\n",
       "22800     77\n",
       "22600     58\n",
       "40300     49\n",
       "20800     47\n",
       "24800     46\n",
       "41800     44\n",
       "22700     44\n",
       "40800     37\n",
       "20300     35\n",
       "22500     33\n",
       "24600     28\n",
       "24700     21\n",
       "22400     19\n",
       "24500     19\n",
       "40200     15\n",
       "20200     10\n",
       "22300      4\n",
       "24400      4\n",
       "94700      3\n",
       "24300      3\n",
       "22200      2\n",
       "94600      2\n",
       "42800      1\n",
       "10500      1\n",
       "90600      1\n",
       "90700      1\n",
       "10700      1\n",
       "0          1\n",
       "Name: variant_sku, dtype: int64"
      ]
     },
     "execution_count": 80,
     "metadata": {},
     "output_type": "execute_result"
    }
   ],
   "source": [
    "df[\"variant_sku\"].value_counts()"
   ]
  },
  {
   "cell_type": "code",
   "execution_count": 81,
   "metadata": {},
   "outputs": [],
   "source": [
    "df[\"grouped_product\"] = df[\"variant_sku\"].apply(lambda x: int(x[0:2]) if type(x)==str else \"\")"
   ]
  },
  {
   "cell_type": "code",
   "execution_count": 82,
   "metadata": {},
   "outputs": [
    {
     "data": {
      "text/plain": [
       "      6374\n",
       "21    3359\n",
       "41    1831\n",
       "40     986\n",
       "20     840\n",
       "22     237\n",
       "24     121\n",
       "94       5\n",
       "90       2\n",
       "10       2\n",
       "42       1\n",
       "Name: grouped_product, dtype: int64"
      ]
     },
     "execution_count": 82,
     "metadata": {},
     "output_type": "execute_result"
    }
   ],
   "source": [
    "df[\"grouped_product\"].value_counts()  # makes sense, women are buying a lot."
   ]
  },
  {
   "cell_type": "markdown",
   "metadata": {},
   "source": [
    "## Create a column of product name"
   ]
  },
  {
   "cell_type": "code",
   "execution_count": 83,
   "metadata": {},
   "outputs": [],
   "source": [
    "def create_name(group):\n",
    "    if group == 21:\n",
    "        name = \"Women's +20\"\n",
    "    elif group == 41:\n",
    "        name = \"Women's +40\"\n",
    "    elif group == 40:\n",
    "        name = \"Men's +40\"\n",
    "    elif group == 20:\n",
    "        name = \"Men's +20\"\n",
    "    elif group == 22:\n",
    "        name = \"Petite Women's +20\"\n",
    "    elif group == 24:\n",
    "        name = \"Petite Women's +40\"\n",
    "    else:\n",
    "        name = \"\"\n",
    "    return name"
   ]
  },
  {
   "cell_type": "markdown",
   "metadata": {},
   "source": [
    "df[\"product_name\"] = df[\"grouped_product\"].apply(lambda x: \"Women's +20\" if x==21 elif x==41 \"Women's +40\" \n",
    "                                                 elif x==40 \"Men's +40\" elif x==20 \"Men's +20\" \n",
    "                                                elif x==22 \"Petite Women's +20\" elif x==24 \"Petite Women's +40\" else \"\")\n",
    "# Why this is wrong???????"
   ]
  },
  {
   "cell_type": "code",
   "execution_count": 84,
   "metadata": {},
   "outputs": [],
   "source": [
    "df[\"product_name\"] = df[\"grouped_product\"].apply(create_name)"
   ]
  },
  {
   "cell_type": "code",
   "execution_count": 85,
   "metadata": {},
   "outputs": [
    {
     "data": {
      "text/plain": [
       "                      6384\n",
       "Women's +20           3359\n",
       "Women's +40           1831\n",
       "Men's +40              986\n",
       "Men's +20              840\n",
       "Petite Women's +20     237\n",
       "Petite Women's +40     121\n",
       "Name: product_name, dtype: int64"
      ]
     },
     "execution_count": 85,
     "metadata": {},
     "output_type": "execute_result"
    }
   ],
   "source": [
    "df[\"product_name\"].value_counts()"
   ]
  },
  {
   "cell_type": "markdown",
   "metadata": {},
   "source": [
    "L = \" \" * df.shape[0]\n",
    "df[\"grouped_product\"]= L"
   ]
  },
  {
   "cell_type": "markdown",
   "metadata": {},
   "source": [
    "df[\"grouped_product\"] #created a column of zeros"
   ]
  },
  {
   "cell_type": "markdown",
   "metadata": {},
   "source": [
    "for index,row in df.iterrows():\n",
    "    if type(row[\"variant_sku\"]) == str:\n",
    "        row[\"grouped_product\"]=int(row[\"variant_sku\"][0:2])"
   ]
  },
  {
   "cell_type": "markdown",
   "metadata": {},
   "source": [
    "for index,row in df.head().iterrows():\n",
    "    if type(row[\"variant_sku\"])== str:\n",
    "        row[\"grouped_product\"] = int(row[\"variant_sku\"][0:2])\n",
    "    else:\n",
    "        row[\"grouped_product\"] = 10"
   ]
  },
  {
   "cell_type": "markdown",
   "metadata": {},
   "source": [
    "df[\"grouped_product\"].value_counts()"
   ]
  },
  {
   "cell_type": "markdown",
   "metadata": {},
   "source": [
    "Type = []\n",
    "for index,row in df.iterrows():\n",
    "    Type.append(type(row[\"variant_sku\"]))\n",
    "Counter(Type)"
   ]
  },
  {
   "cell_type": "markdown",
   "metadata": {},
   "source": [
    "for index,row in df.iterrows():\n",
    "    if type(row[\"variant_sku\"])== NoneType:\n",
    "        print(row[\"variant_sku\"])"
   ]
  },
  {
   "cell_type": "code",
   "execution_count": 86,
   "metadata": {},
   "outputs": [
    {
     "data": {
      "text/plain": [
       "0                488\n",
       "2443837374575     46\n",
       "708008673391      32\n",
       "1305334677615     24\n",
       "708019060847      20\n",
       "                ... \n",
       "2719343607919      1\n",
       "2706240700527      1\n",
       "2312866103407      1\n",
       "2675389694063      1\n",
       "2447336407151      1\n",
       "Name: customer_id, Length: 4934, dtype: int64"
      ]
     },
     "execution_count": 86,
     "metadata": {},
     "output_type": "execute_result"
    }
   ],
   "source": [
    "df[\"customer_id\"].value_counts()"
   ]
  },
  {
   "cell_type": "markdown",
   "metadata": {},
   "source": [
    "## Shipping city different from billing city"
   ]
  },
  {
   "cell_type": "code",
   "execution_count": 100,
   "metadata": {},
   "outputs": [],
   "source": [
    "df_subset = df[df.billing_city != df.shipping_city][[\"billing_city\",\"shipping_city\"]] # different"
   ]
  },
  {
   "cell_type": "code",
   "execution_count": 105,
   "metadata": {},
   "outputs": [
    {
     "data": {
      "text/plain": [
       "(1814, 2)"
      ]
     },
     "execution_count": 105,
     "metadata": {},
     "output_type": "execute_result"
    }
   ],
   "source": [
    "df_subset.shape"
   ]
  },
  {
   "cell_type": "code",
   "execution_count": 106,
   "metadata": {},
   "outputs": [
    {
     "data": {
      "text/plain": [
       "682"
      ]
     },
     "execution_count": 106,
     "metadata": {},
     "output_type": "execute_result"
    }
   ],
   "source": [
    "sum(pd.isna(df_subset[\"billing_city\"])==False) #682 billing cities exist"
   ]
  },
  {
   "cell_type": "code",
   "execution_count": 108,
   "metadata": {},
   "outputs": [
    {
     "data": {
      "text/plain": [
       "1289"
      ]
     },
     "execution_count": 108,
     "metadata": {},
     "output_type": "execute_result"
    }
   ],
   "source": [
    "sum(pd.isna(df_subset[\"shipping_city\"])==False) #1289 shipping cities exist"
   ]
  },
  {
   "cell_type": "markdown",
   "metadata": {},
   "source": [
    "##### 1814 different, in which only 682 billing city make sense, not null.\n",
    "##### Some of them just didn't leave billing city message\n",
    "##### in all different, only 662 make sense, have both billing city and shipping city information"
   ]
  },
  {
   "cell_type": "code",
   "execution_count": 87,
   "metadata": {},
   "outputs": [],
   "source": [
    "df_diff_ship_bill = df[(df.billing_city != df.shipping_city) & (pd.isna(df.billing_city)==False) &(pd.isna(df.shipping_city)==False)]"
   ]
  },
  {
   "cell_type": "code",
   "execution_count": 88,
   "metadata": {},
   "outputs": [
    {
     "data": {
      "text/plain": [
       "(662, 39)"
      ]
     },
     "execution_count": 88,
     "metadata": {},
     "output_type": "execute_result"
    }
   ],
   "source": [
    "df_diff_ship_bill.shape"
   ]
  },
  {
   "cell_type": "code",
   "execution_count": 123,
   "metadata": {
    "collapsed": true,
    "jupyter": {
     "outputs_hidden": true
    }
   },
   "outputs": [
    {
     "data": {
      "text/html": [
       "<div>\n",
       "<style scoped>\n",
       "    .dataframe tbody tr th:only-of-type {\n",
       "        vertical-align: middle;\n",
       "    }\n",
       "\n",
       "    .dataframe tbody tr th {\n",
       "        vertical-align: top;\n",
       "    }\n",
       "\n",
       "    .dataframe thead th {\n",
       "        text-align: right;\n",
       "    }\n",
       "</style>\n",
       "<table border=\"1\" class=\"dataframe\">\n",
       "  <thead>\n",
       "    <tr style=\"text-align: right;\">\n",
       "      <th></th>\n",
       "      <th>billing_city</th>\n",
       "      <th>shipping_city</th>\n",
       "    </tr>\n",
       "  </thead>\n",
       "  <tbody>\n",
       "    <tr>\n",
       "      <th>253</th>\n",
       "      <td>Saint Louis</td>\n",
       "      <td>NaN</td>\n",
       "    </tr>\n",
       "    <tr>\n",
       "      <th>258</th>\n",
       "      <td>Delray Beach</td>\n",
       "      <td>NaN</td>\n",
       "    </tr>\n",
       "    <tr>\n",
       "      <th>261</th>\n",
       "      <td>Richmond</td>\n",
       "      <td>NaN</td>\n",
       "    </tr>\n",
       "    <tr>\n",
       "      <th>268</th>\n",
       "      <td>Lakewood</td>\n",
       "      <td>NaN</td>\n",
       "    </tr>\n",
       "    <tr>\n",
       "      <th>274</th>\n",
       "      <td>University City</td>\n",
       "      <td>NaN</td>\n",
       "    </tr>\n",
       "    <tr>\n",
       "      <th>275</th>\n",
       "      <td>Saint Louis</td>\n",
       "      <td>NaN</td>\n",
       "    </tr>\n",
       "    <tr>\n",
       "      <th>276</th>\n",
       "      <td>Saint Louis</td>\n",
       "      <td>NaN</td>\n",
       "    </tr>\n",
       "    <tr>\n",
       "      <th>277</th>\n",
       "      <td>Fort Lauderdale</td>\n",
       "      <td>NaN</td>\n",
       "    </tr>\n",
       "    <tr>\n",
       "      <th>278</th>\n",
       "      <td>Clayton</td>\n",
       "      <td>NaN</td>\n",
       "    </tr>\n",
       "    <tr>\n",
       "      <th>279</th>\n",
       "      <td>Webster Groves</td>\n",
       "      <td>NaN</td>\n",
       "    </tr>\n",
       "    <tr>\n",
       "      <th>288</th>\n",
       "      <td>Sharpsville</td>\n",
       "      <td>NaN</td>\n",
       "    </tr>\n",
       "    <tr>\n",
       "      <th>289</th>\n",
       "      <td>Sharpsville</td>\n",
       "      <td>NaN</td>\n",
       "    </tr>\n",
       "    <tr>\n",
       "      <th>291</th>\n",
       "      <td>Polo</td>\n",
       "      <td>NaN</td>\n",
       "    </tr>\n",
       "    <tr>\n",
       "      <th>294</th>\n",
       "      <td>Lafayette</td>\n",
       "      <td>NaN</td>\n",
       "    </tr>\n",
       "    <tr>\n",
       "      <th>295</th>\n",
       "      <td>Long Beach</td>\n",
       "      <td>NaN</td>\n",
       "    </tr>\n",
       "    <tr>\n",
       "      <th>296</th>\n",
       "      <td>Allen</td>\n",
       "      <td>NaN</td>\n",
       "    </tr>\n",
       "    <tr>\n",
       "      <th>297</th>\n",
       "      <td>Allen</td>\n",
       "      <td>NaN</td>\n",
       "    </tr>\n",
       "    <tr>\n",
       "      <th>304</th>\n",
       "      <td>Saint Charles</td>\n",
       "      <td>NaN</td>\n",
       "    </tr>\n",
       "    <tr>\n",
       "      <th>311</th>\n",
       "      <td>Kamuela</td>\n",
       "      <td>NaN</td>\n",
       "    </tr>\n",
       "    <tr>\n",
       "      <th>312</th>\n",
       "      <td>Norfolk</td>\n",
       "      <td>NaN</td>\n",
       "    </tr>\n",
       "  </tbody>\n",
       "</table>\n",
       "</div>"
      ],
      "text/plain": [
       "        billing_city shipping_city\n",
       "253      Saint Louis           NaN\n",
       "258     Delray Beach           NaN\n",
       "261         Richmond           NaN\n",
       "268         Lakewood           NaN\n",
       "274  University City           NaN\n",
       "275      Saint Louis           NaN\n",
       "276      Saint Louis           NaN\n",
       "277  Fort Lauderdale           NaN\n",
       "278          Clayton           NaN\n",
       "279   Webster Groves           NaN\n",
       "288      Sharpsville           NaN\n",
       "289      Sharpsville           NaN\n",
       "291             Polo           NaN\n",
       "294        Lafayette           NaN\n",
       "295       Long Beach           NaN\n",
       "296            Allen           NaN\n",
       "297            Allen           NaN\n",
       "304    Saint Charles           NaN\n",
       "311          Kamuela           NaN\n",
       "312          Norfolk           NaN"
      ]
     },
     "execution_count": 123,
     "metadata": {},
     "output_type": "execute_result"
    }
   ],
   "source": [
    "# 20 person only leave billing city, no shipping city. interesting\n",
    "df_empty_ship_with_bill = df[(pd.isna(df.billing_city)==False) & (pd.isna(df.shipping_city)==True)]\n",
    "df_empty_ship_with_bill[[\"billing_city\",\"shipping_city\"]]"
   ]
  },
  {
   "cell_type": "code",
   "execution_count": 94,
   "metadata": {
    "collapsed": true,
    "jupyter": {
     "outputs_hidden": true
    }
   },
   "outputs": [
    {
     "data": {
      "text/plain": [
       "[(('Farmington Hills', 'Harper Woods'), 10),\n",
       " (('Brooklyn', 'New York'), 10),\n",
       " (('Baltimore', 'Severn'), 9),\n",
       " (('St. Louis', 'Kirkwood'), 8),\n",
       " (('El Segundo', 'Irvine'), 7),\n",
       " (('Dallas', 'Cary'), 6),\n",
       " (('Irvine', 'Carlsbad'), 6),\n",
       " (('Miami', 'North Miami'), 6),\n",
       " (('Rockport', 'Shavano Park'), 5),\n",
       " (('Sioux Falls', 'Anaheim'), 5),\n",
       " (('Scarsdale', 'Portland'), 5),\n",
       " (('Cypress', 'La Mirada'), 5),\n",
       " (('Gurnee', 'Milwaukee'), 5),\n",
       " (('Oxnard', 'Ventura'), 5),\n",
       " (('London', 'Port Huron'), 5),\n",
       " (('Spring Hill', 'Land O Lakes'), 5),\n",
       " (('Douglasville', 'Rockmart'), 5),\n",
       " (('Corvallis', 'Bend'), 4),\n",
       " (('Mechanicsburg', 'College Park'), 4),\n",
       " (('Union City', 'Norman'), 4),\n",
       " (('Florence', 'Hartsville'), 4),\n",
       " (('Aurora', 'Estero'), 4),\n",
       " (('Spicewood', 'Lake Oswego'), 4),\n",
       " (('Swansea', 'Saint Louis'), 4),\n",
       " (('Naples', 'Arden'), 4),\n",
       " (('Cumming', 'Alpharetta'), 4),\n",
       " (('Fairfield', 'Prairie View'), 4),\n",
       " (('Boxford', 'Boston'), 4),\n",
       " (('La Crescenta Montrose', 'La Crescenta'), 4),\n",
       " (('Scottsdale', 'Phoenix, Az'), 4),\n",
       " (('Rosedale', 'New York'), 4),\n",
       " (('City Of Orange', 'Orange'), 4),\n",
       " (('Webster', 'Philadelphia'), 4),\n",
       " (('Bowie', 'Laurel'), 4),\n",
       " (('Fayette', 'Lorman'), 4),\n",
       " (('Songpagu', 'Seoul'), 4),\n",
       " (('Raleigh', 'Cary'), 4),\n",
       " (('Springtown', 'Cedar Lake'), 4),\n",
       " (('Farmington Hills', 'Chandler'), 3),\n",
       " (('Indianapolis', 'Jacksonville'), 3),\n",
       " (('Austin', 'Bryan'), 3),\n",
       " (('Lansing', 'Iowa City'), 3),\n",
       " (('New Orleans', 'Harvey'), 3),\n",
       " (('Newark', 'Belleville'), 3),\n",
       " (('San Leandro', 'Oakland'), 3),\n",
       " (('Chicago', 'Park Ridge'), 3),\n",
       " (('Glenhaven', 'Occidental'), 3),\n",
       " (('Washington', 'Capitol Hgts'), 3),\n",
       " (('Mendota Heights', 'Eagan'), 3),\n",
       " (('Crete', 'Frisco'), 3),\n",
       " (('Kilgore', 'Omaha'), 3),\n",
       " (('Norwalk', 'Southbury'), 3),\n",
       " (('Gainesville', 'Houston'), 3),\n",
       " (('Scottsdale', 'Ten Sleep'), 3),\n",
       " (('Baltimore', 'Prairie Village'), 3),\n",
       " (('Garibaldi', 'San Jose'), 3),\n",
       " (('North Jackson', 'Sarasota'), 3),\n",
       " (('The Bronx', 'New York'), 3),\n",
       " (('Phoenix', 'Honolulu'), 3),\n",
       " (('New York', 'Cranston'), 3),\n",
       " (('Pinedale', 'Marbleton'), 3),\n",
       " (('South Orange', 'East Orange'), 3),\n",
       " (('Thousand Oaks', 'Agoura Hills'), 3),\n",
       " (('Palm Coast Fl', 'Palm Coast'), 3),\n",
       " (('Elkton', 'Galena'), 3),\n",
       " (('Oakton', 'Miami'), 3),\n",
       " (('Charlton', 'Cape Coral'), 3),\n",
       " (('Festus', 'St Louis'), 3),\n",
       " (('Houston', 'Bernalillo'), 3),\n",
       " (('Wildomar', 'San Jacinto'), 3),\n",
       " (('Queens', 'Whitestone'), 3),\n",
       " (('Hyattsville', 'Washington'), 3),\n",
       " (('Bellevue', 'Fort Mitchell'), 3),\n",
       " (('Tipton', 'West Branch'), 3),\n",
       " (('Lewisville', 'Dallas'), 2),\n",
       " (('Locust Grove', 'Barnesville'), 2),\n",
       " (('Kirkwood', 'Germantown'), 2),\n",
       " (('St Louis', 'San Francisco'), 2),\n",
       " (('Kennesaw', 'Columbus'), 2),\n",
       " (('Poway', 'Peoria'), 2),\n",
       " (('Brownsville', 'Bronsville'), 2),\n",
       " (('Como', 'South Perth'), 2),\n",
       " (('Southfield', 'Redford'), 2),\n",
       " (('Detroit', 'Big Rapids'), 2),\n",
       " (('Eagle Lake', 'Kingsville'), 2),\n",
       " (('Lebanon', 'North Manchester'), 2),\n",
       " (('Philadelphia', 'Wilmington'), 2),\n",
       " (('Upper Marlboro', 'College Park'), 2),\n",
       " (('Loganville', 'Brandywine'), 2),\n",
       " (('Chicago', 'Lutz'), 2),\n",
       " (('Cumberland', 'Colleg Park'), 2),\n",
       " (('Fayetteville', 'Arlington'), 2),\n",
       " (('Boca Raton', 'Fayetteville'), 2),\n",
       " (('Miami', 'Missouri City'), 2),\n",
       " (('Lakewood', 'Missouri City'), 2),\n",
       " (('Thornton', 'Missouri City'), 2),\n",
       " (('West Palm Beach', 'Vancouver'), 2),\n",
       " (('Sacramento', 'Roseville'), 2),\n",
       " (('Henderson', 'Las Vegas'), 2),\n",
       " (('Ft Meade', 'Glen Burnie'), 2),\n",
       " (('Long Beach', 'Playa Del Ray'), 2),\n",
       " (('Haltom City', 'N Richlnd Hls'), 2),\n",
       " (('Arcadia', 'Los Angeles'), 2),\n",
       " (('Brooklyn', 'Bronxville'), 2),\n",
       " (('Naples', 'Sewickley'), 2),\n",
       " (('Saint Louis', 'Creve Coeur'), 2),\n",
       " (('Thaol 23955', 'Thuwal, 23955 6900'), 2),\n",
       " (('Ballwin', 'Monmouth'), 2),\n",
       " (('Washington', 'Lanham'), 2),\n",
       " (('Queens', 'Ny'), 2),\n",
       " (('Aliso Viejo', 'Newport Beach'), 2),\n",
       " (('Chicago', 'Niles'), 2),\n",
       " (('Whitefish', 'Columbia Falls'), 2),\n",
       " (('Kings', 'Raleigh'), 2),\n",
       " (('Elm Mott', 'Hewitt'), 2),\n",
       " (('Williston', 'Evanston'), 2),\n",
       " (('Seymour', 'Tucson'), 2),\n",
       " (('Chicago', 'Flossmoor'), 2),\n",
       " (('Chicago', 'Dover'), 2),\n",
       " (('Olivette', 'Saint Louis'), 2),\n",
       " (('Gaithersburg', 'Washington'), 2),\n",
       " (('Naples', 'Sheboygan Falls'), 2),\n",
       " (('Draper', 'Sandy'), 2),\n",
       " (('Harrison', 'Bronx'), 2),\n",
       " (('Falls Church', 'Faribault'), 2),\n",
       " (('Livonia', 'Ann Arbor'), 2),\n",
       " (('Hoboken', 'Hasbrouck Heights'), 2),\n",
       " (('Takoma Park', 'Charleston'), 2),\n",
       " (('Hillsboro', 'Frisco'), 2),\n",
       " (('Festus', 'St Peters'), 2),\n",
       " (('Dallas', 'Red Oak'), 2),\n",
       " (('Diana', 'Frierson'), 2),\n",
       " (('Dakota Dunes', 'Sioux City'), 2),\n",
       " (('Point Clear', 'Fairhope'), 2),\n",
       " (('Las Vegas', 'Los Angeles'), 2),\n",
       " (('Wayne', 'Highland Beach'), 2),\n",
       " (('St. Louis', 'Chesterfield'), 2),\n",
       " (('Denver', 'Colorado Springs'), 2),\n",
       " (('Los Angeles', 'Monterey'), 2),\n",
       " (('Jamaica', 'Laurelton'), 2),\n",
       " (('Westland', 'Kansas City'), 2),\n",
       " (('Hollywood', 'Aliquippa'), 2),\n",
       " (('Waconia', 'Santa Fe'), 2),\n",
       " (('Valley Cottage', 'Montvale'), 2),\n",
       " (('Innisfree', 'Greenwood'), 2),\n",
       " (('Durbuy', 'Ashton'), 2),\n",
       " (('Edison', 'Brooklyn'), 2),\n",
       " (('Los Angeles', 'Sherman Oaks'), 2),\n",
       " (('Mississauga', 'Santa Clara'), 2),\n",
       " (('Naples', 'Palm Bay'), 2),\n",
       " (('Los Angeles', 'Calabasas'), 2),\n",
       " (('Alexandria', 'Springfield'), 2),\n",
       " (('Las Vegas', 'Brooklyn'), 2),\n",
       " (('Fairfax', 'Sperryville'), 2),\n",
       " (('Bedford', 'San Francisco'), 2),\n",
       " (('Godfrey', 'Alton'), 2),\n",
       " (('Porter', 'Glenview'), 2),\n",
       " (('Victorville', 'Northridge'), 2),\n",
       " (('Jeffersonville', 'Overland Park'), 2),\n",
       " (('St. Petersburg', 'Honolulu'), 2),\n",
       " (('Overland Park', 'Kansas City'), 2),\n",
       " (('Overland Park', 'Mission'), 2),\n",
       " (('Hockessin', 'New York'), 2),\n",
       " (('Singapore', 'Singpaore'), 2),\n",
       " (('South Saint Paul', 'Saint Paul'), 2),\n",
       " (('Oceanport', 'Sarasota'), 2),\n",
       " (('Surrey', 'Blaine'), 2),\n",
       " (('Austin', 'Mequon'), 2),\n",
       " (('Thousand Oaks', 'Olivette'), 2),\n",
       " (('Toronto', 'Niagara Falls, New York 14303'), 2),\n",
       " (('Riverview', 'Denver'), 2),\n",
       " (('Kaneohe', 'Oregon City'), 2),\n",
       " (('Lawnside', 'Clementon'), 2),\n",
       " (('Allegan', 'Chicago'), 2),\n",
       " (('Downers Grove', 'Lake Villa'), 2),\n",
       " (('Highland Park', 'Chicago'), 2),\n",
       " (('Manhattan', 'Chicago'), 2),\n",
       " (('Techny', 'Northbrook'), 2),\n",
       " (('West New Yorl', 'West New York'), 2),\n",
       " (('Pomona', 'Tujunga'), 2),\n",
       " (('Woodbury', 'Sewell'), 2),\n",
       " (('Walnut Creek', 'Detroit'), 2),\n",
       " (('Parkville', 'Towson'), 2),\n",
       " (('Morro Bay', 'Baywood Los Osos'), 2),\n",
       " (('Washington', 'Hanover'), 2),\n",
       " (('La', 'Los Angeles'), 2),\n",
       " (('Socorro', 'Midland'), 2),\n",
       " (('Inglewood', 'Los Angeles'), 2),\n",
       " (('Naples', 'Okatie'), 2),\n",
       " (('Queens', 'Brooklyn'), 2),\n",
       " (('Monroe', 'West Monroe'), 2),\n",
       " (('Wake Forest', 'New York'), 2),\n",
       " (('Lone Butte', 'Kent'), 2),\n",
       " (('Dallas', 'New Territory'), 2),\n",
       " (('Wilmington', 'Greenville'), 2),\n",
       " (('Bellevue', 'Alexandria'), 2),\n",
       " (('Lakewood', 'Wyola'), 2),\n",
       " (('Duncanville', 'Dallas'), 2),\n",
       " (('Farmington Hills', 'Detroit'), 2),\n",
       " (('Matawan', 'Red Bank'), 2),\n",
       " (('King', 'Winston Salem'), 2),\n",
       " (('Alpharetta', 'Atlanta'), 2),\n",
       " (('Woodland Hills', 'La Canada'), 2),\n",
       " (('Indianapolis', 'Waldorf'), 2),\n",
       " (('Staten Island', 'Brooklyn'), 2),\n",
       " (('Brookline', 'West Roxbury'), 2),\n",
       " (('Hardwick', 'Barre'), 2),\n",
       " (('Chicago', 'Alpharetta'), 2),\n",
       " (('Villa Ridge', 'Maplewood'), 2),\n",
       " (('Kirkwood', 'House Springs'), 2),\n",
       " (('Hillsborough', 'Newport'), 2),\n",
       " (('Camp Point', 'Canton'), 2),\n",
       " (('Washington', 'College Park'), 2),\n",
       " (('Jupiter', 'Dallas'), 2),\n",
       " (('Memphis', 'Southaven'), 2),\n",
       " (('St. Charles', 'Hudson'), 2),\n",
       " (('Winnetka', 'St. Louis'), 2),\n",
       " (('Richmond', 'Sugar Land'), 2),\n",
       " (('Charleston', 'Locust St.'), 2),\n",
       " (('St Paul', 'Zionsville'), 2),\n",
       " (('Lancaster', 'Palmdale'), 2),\n",
       " (('Vestavia Hills', 'Vestavia'), 2),\n",
       " (('Astoria', 'New York'), 2),\n",
       " (('Atlanta', 'Las Vegas'), 2),\n",
       " (('Mitchellville', 'Largo'), 2),\n",
       " (('Phoenix', 'Pinetop'), 2),\n",
       " (('Boothwyn', 'Oviedo'), 2),\n",
       " (('Philadelphia', 'Phila'), 2),\n",
       " (('Mount Pleasant', 'Charleston'), 2),\n",
       " (('Yuma', 'Queens'), 2),\n",
       " (('Greenwood Village', 'Scottsdale'), 2),\n",
       " (('Las Vegas', 'Saint Petersburg'), 2),\n",
       " (('Anaheim', 'Anahein'), 2),\n",
       " (('Desoto', 'Red Oak'), 2),\n",
       " (('Reading', 'Philadelphia'), 2),\n",
       " (('Partlow', 'Richmond'), 2),\n",
       " (('Spring City', 'Dagsboro'), 2),\n",
       " (('Belmar', 'Windham'), 2),\n",
       " (('Greenlawn', 'Marion'), 2),\n",
       " (('Coto De Caza', 'Charlotte'), 2),\n",
       " (('Mobile', 'Hyannis'), 2),\n",
       " (('Bowie', 'Frederick'), 2),\n",
       " (('Carlsbad', 'Charlotte'), 2),\n",
       " (('Chester', 'Baltimore'), 2),\n",
       " (('Alexandria', 'Fort Washington'), 2),\n",
       " (('61241', 'Evans'), 2),\n",
       " (('Cedar Grove', 'Clifton'), 2),\n",
       " (('Everett', 'Snohomish'), 2),\n",
       " (('Grove City', 'New York'), 2),\n",
       " (('Waldorf', 'Indianapolis'), 2),\n",
       " (('New York', 'Mount Vernon'), 2),\n",
       " (('Tijeras', 'Albuquerque'), 2),\n",
       " (('Memphis', 'Philadelphia'), 2),\n",
       " (('Pueblo', 'Wildwood'), 2),\n",
       " (('New York', 'Brooklyn'), 2),\n",
       " (('Saint Louis', 'Los Angeles'), 1)]"
      ]
     },
     "execution_count": 94,
     "metadata": {},
     "output_type": "execute_result"
    }
   ],
   "source": [
    "# Pairs of different billing_city and shipping_city\n",
    "L = []\n",
    "i = []\n",
    "for index,row in df_diff_ship_bill.iterrows():\n",
    "    i = (row[\"billing_city\"],row[\"shipping_city\"])\n",
    "    L.append(i)\n",
    "new_L = map(tuple,L)\n",
    "Counter(new_L).most_common()"
   ]
  },
  {
   "cell_type": "code",
   "execution_count": 90,
   "metadata": {},
   "outputs": [
    {
     "data": {
      "text/plain": [
       "662"
      ]
     },
     "execution_count": 90,
     "metadata": {},
     "output_type": "execute_result"
    }
   ],
   "source": [
    "len(L)"
   ]
  },
  {
   "cell_type": "code",
   "execution_count": 95,
   "metadata": {},
   "outputs": [
    {
     "name": "stderr",
     "output_type": "stream",
     "text": [
      "/Users/xinyifang/opt/anaconda3/lib/python3.7/site-packages/ipykernel_launcher.py:1: SettingWithCopyWarning: \n",
      "A value is trying to be set on a copy of a slice from a DataFrame.\n",
      "Try using .loc[row_indexer,col_indexer] = value instead\n",
      "\n",
      "See the caveats in the documentation: https://pandas.pydata.org/pandas-docs/stable/user_guide/indexing.html#returning-a-view-versus-a-copy\n",
      "  \"\"\"Entry point for launching an IPython kernel.\n"
     ]
    }
   ],
   "source": [
    "df_diff_ship_bill[\"pair\"]= L"
   ]
  },
  {
   "cell_type": "code",
   "execution_count": 96,
   "metadata": {},
   "outputs": [
    {
     "data": {
      "text/plain": [
       "(Farmington Hills, Harper Woods)    10\n",
       "(Brooklyn, New York)                10\n",
       "(Baltimore, Severn)                  9\n",
       "(St. Louis, Kirkwood)                8\n",
       "(El Segundo, Irvine)                 7\n",
       "                                    ..\n",
       "(Memphis, Philadelphia)              2\n",
       "(Lancaster, Palmdale)                2\n",
       "(Lone Butte, Kent)                   2\n",
       "(Las Vegas, Saint Petersburg)        2\n",
       "(Saint Louis, Los Angeles)           1\n",
       "Name: pair, Length: 256, dtype: int64"
      ]
     },
     "execution_count": 96,
     "metadata": {},
     "output_type": "execute_result"
    }
   ],
   "source": [
    "df_diff_ship_bill[\"pair\"].value_counts() #correct"
   ]
  },
  {
   "cell_type": "code",
   "execution_count": 97,
   "metadata": {},
   "outputs": [],
   "source": [
    "df_diff_ship_bill.to_csv(\"diff_ship_bill_city.csv\",index=False)"
   ]
  },
  {
   "cell_type": "markdown",
   "metadata": {},
   "source": [
    "## Orders - Whether there's any transaction\n",
    "When units per transaction > 0, orders is 1 <br>\n",
    "When there's no transaction, order = 0, financial status: 4867 1304 426 3 3 <br>\n",
    "When there is transaction, order = 1, 5906 544 214 2 2 <br>\n",
    "status: paid/ refunded/ partially_refunded/ partially_paid/ pending"
   ]
  },
  {
   "cell_type": "code",
   "execution_count": 98,
   "metadata": {},
   "outputs": [
    {
     "data": {
      "text/plain": [
       "0    7090\n",
       "1    6668\n",
       "Name: orders, dtype: int64"
      ]
     },
     "execution_count": 98,
     "metadata": {},
     "output_type": "execute_result"
    }
   ],
   "source": [
    "df[\"orders\"].value_counts()"
   ]
  },
  {
   "cell_type": "code",
   "execution_count": 134,
   "metadata": {},
   "outputs": [
    {
     "data": {
      "text/plain": [
       "1.0     6425\n",
       "0.0     6373\n",
       "2.0      204\n",
       "3.0       19\n",
       "4.0        8\n",
       "5.0        7\n",
       "6.0        3\n",
       "12.0       2\n",
       "Name: units_per_transaction, dtype: int64"
      ]
     },
     "execution_count": 134,
     "metadata": {},
     "output_type": "execute_result"
    }
   ],
   "source": [
    "df[\"units_per_transaction\"].value_counts()"
   ]
  },
  {
   "cell_type": "code",
   "execution_count": 135,
   "metadata": {},
   "outputs": [
    {
     "data": {
      "text/plain": [
       "6668"
      ]
     },
     "execution_count": 135,
     "metadata": {},
     "output_type": "execute_result"
    }
   ],
   "source": [
    "sum(df[\"units_per_transaction\"]>0)"
   ]
  },
  {
   "cell_type": "code",
   "execution_count": 139,
   "metadata": {},
   "outputs": [
    {
     "data": {
      "text/plain": [
       "(6668, 39)"
      ]
     },
     "execution_count": 139,
     "metadata": {},
     "output_type": "execute_result"
    }
   ],
   "source": [
    "df[(df[\"units_per_transaction\"]>0) & (df[\"orders\"]==1)].shape"
   ]
  },
  {
   "cell_type": "code",
   "execution_count": 100,
   "metadata": {},
   "outputs": [
    {
     "data": {
      "text/plain": [
       "0          NaN\n",
       "1          NaN\n",
       "2          NaN\n",
       "3          NaN\n",
       "4          NaN\n",
       "         ...  \n",
       "13749    #7455\n",
       "13752    #7450\n",
       "13753    #7451\n",
       "13754    #7457\n",
       "13757    #7456\n",
       "Name: order_name, Length: 7090, dtype: object"
      ]
     },
     "execution_count": 100,
     "metadata": {},
     "output_type": "execute_result"
    }
   ],
   "source": [
    "df[df[\"orders\"]==0].order_name  #7090 orders=0"
   ]
  },
  {
   "cell_type": "code",
   "execution_count": 102,
   "metadata": {},
   "outputs": [
    {
     "data": {
      "text/plain": [
       "paid                  10773\n",
       "refunded               1848\n",
       "partially_refunded      640\n",
       "partially_paid            5\n",
       "pending                   5\n",
       "Name: financial_status, dtype: int64"
      ]
     },
     "execution_count": 102,
     "metadata": {},
     "output_type": "execute_result"
    }
   ],
   "source": [
    "df[\"financial_status\"].value_counts()"
   ]
  },
  {
   "cell_type": "code",
   "execution_count": 151,
   "metadata": {},
   "outputs": [
    {
     "name": "stdout",
     "output_type": "stream",
     "text": [
      "4867 1304 426 3 3\n"
     ]
    }
   ],
   "source": [
    "#order = 0, financial status\n",
    "print(df[(df[\"financial_status\"]==\"paid\") & (df[\"orders\"]==0)].shape[0],\n",
    "df[(df[\"financial_status\"]==\"refunded\") & (df[\"orders\"]==0)].shape[0],\n",
    "df[(df[\"financial_status\"]==\"partially_refunded\") & (df[\"orders\"]==0)].shape[0],\n",
    "df[(df[\"financial_status\"]==\"partially_paid\") & (df[\"orders\"]==0)].shape[0],\n",
    "df[(df[\"financial_status\"]==\"pending\") & (df[\"orders\"]==0)].shape[0])"
   ]
  },
  {
   "cell_type": "code",
   "execution_count": 152,
   "metadata": {},
   "outputs": [
    {
     "name": "stdout",
     "output_type": "stream",
     "text": [
      "5906 544 214 2 2\n"
     ]
    }
   ],
   "source": [
    "#order = 1, financial status\n",
    "print(df[(df[\"financial_status\"]==\"paid\") & (df[\"orders\"]==1)].shape[0],\n",
    "df[(df[\"financial_status\"]==\"refunded\") & (df[\"orders\"]==1)].shape[0],\n",
    "df[(df[\"financial_status\"]==\"partially_refunded\") & (df[\"orders\"]==1)].shape[0],\n",
    "df[(df[\"financial_status\"]==\"partially_paid\") & (df[\"orders\"]==1)].shape[0],\n",
    "df[(df[\"financial_status\"]==\"pending\") & (df[\"orders\"]==1)].shape[0])"
   ]
  },
  {
   "cell_type": "code",
   "execution_count": 104,
   "metadata": {},
   "outputs": [
    {
     "data": {
      "text/plain": [
       "No     13171\n",
       "Yes      100\n",
       "Name: cancelled, dtype: int64"
      ]
     },
     "execution_count": 104,
     "metadata": {},
     "output_type": "execute_result"
    }
   ],
   "source": [
    "df[\"cancelled\"].value_counts()"
   ]
  },
  {
   "cell_type": "code",
   "execution_count": 105,
   "metadata": {},
   "outputs": [
    {
     "data": {
      "text/plain": [
       "order     11762\n",
       "return     1509\n",
       "Name: sale_kind, dtype: int64"
      ]
     },
     "execution_count": 105,
     "metadata": {},
     "output_type": "execute_result"
    }
   ],
   "source": [
    "df[\"sale_kind\"].value_counts()"
   ]
  },
  {
   "cell_type": "code",
   "execution_count": 114,
   "metadata": {},
   "outputs": [
    {
     "data": {
      "text/plain": [
       "7063"
      ]
     },
     "execution_count": 114,
     "metadata": {},
     "output_type": "execute_result"
    }
   ],
   "source": [
    "sum(df.net_sales!=0) #6048 orders has positive net sales, 7063 not zero."
   ]
  },
  {
   "cell_type": "code",
   "execution_count": 111,
   "metadata": {},
   "outputs": [
    {
     "data": {
      "text/plain": [
       "8368"
      ]
     },
     "execution_count": 111,
     "metadata": {},
     "output_type": "execute_result"
    }
   ],
   "source": [
    "sum(df.total_sales>0)"
   ]
  },
  {
   "cell_type": "markdown",
   "metadata": {},
   "source": [
    "## Returns - modify by financial status"
   ]
  },
  {
   "cell_type": "code",
   "execution_count": 115,
   "metadata": {},
   "outputs": [
    {
     "data": {
      "text/plain": [
       " 0.00      12437\n",
       "-129.99      415\n",
       "-109.99      135\n",
       " 129.99      124\n",
       "-114.99      110\n",
       "           ...  \n",
       "-140.87        1\n",
       "-104.99        1\n",
       "-5.67          1\n",
       "-234.55        1\n",
       " 219.98        1\n",
       "Name: returns, Length: 103, dtype: int64"
      ]
     },
     "execution_count": 115,
     "metadata": {},
     "output_type": "execute_result"
    }
   ],
   "source": [
    "df[\"returns\"].value_counts()"
   ]
  },
  {
   "cell_type": "code",
   "execution_count": 116,
   "metadata": {},
   "outputs": [
    {
     "data": {
      "text/plain": [
       "129.99    124\n",
       "109.99     61\n",
       "114.99     36\n",
       "99.99      27\n",
       "104.00     16\n",
       "15.00       7\n",
       "20.00       6\n",
       "142.57      6\n",
       "30.00       3\n",
       "109.66      3\n",
       "117.00      2\n",
       "65.00       2\n",
       "126.12      2\n",
       "99.00       1\n",
       "35.00       1\n",
       "104.99      1\n",
       "100.00      1\n",
       "89.00       1\n",
       "259.98      1\n",
       "222.29      1\n",
       "120.81      1\n",
       "239.98      1\n",
       "114.06      1\n",
       "219.98      1\n",
       "Name: returns, dtype: int64"
      ]
     },
     "execution_count": 116,
     "metadata": {},
     "output_type": "execute_result"
    }
   ],
   "source": [
    "df[df[\"returns\"]>0][\"returns\"].value_counts()"
   ]
  },
  {
   "cell_type": "code",
   "execution_count": 132,
   "metadata": {},
   "outputs": [
    {
     "data": {
      "text/html": [
       "<div>\n",
       "<style scoped>\n",
       "    .dataframe tbody tr th:only-of-type {\n",
       "        vertical-align: middle;\n",
       "    }\n",
       "\n",
       "    .dataframe tbody tr th {\n",
       "        vertical-align: top;\n",
       "    }\n",
       "\n",
       "    .dataframe thead th {\n",
       "        text-align: right;\n",
       "    }\n",
       "</style>\n",
       "<table border=\"1\" class=\"dataframe\">\n",
       "  <thead>\n",
       "    <tr style=\"text-align: right;\">\n",
       "      <th></th>\n",
       "      <th>financial_status</th>\n",
       "      <th>returns</th>\n",
       "      <th>net_sales</th>\n",
       "      <th>gross_sales</th>\n",
       "      <th>total_sales</th>\n",
       "      <th>discounts</th>\n",
       "    </tr>\n",
       "  </thead>\n",
       "  <tbody>\n",
       "    <tr>\n",
       "      <th>4357</th>\n",
       "      <td>paid</td>\n",
       "      <td>-114.99</td>\n",
       "      <td>-114.99</td>\n",
       "      <td>0.0</td>\n",
       "      <td>-114.99</td>\n",
       "      <td>0.0</td>\n",
       "    </tr>\n",
       "    <tr>\n",
       "      <th>4366</th>\n",
       "      <td>paid</td>\n",
       "      <td>114.99</td>\n",
       "      <td>114.99</td>\n",
       "      <td>0.0</td>\n",
       "      <td>114.99</td>\n",
       "      <td>0.0</td>\n",
       "    </tr>\n",
       "    <tr>\n",
       "      <th>4391</th>\n",
       "      <td>paid</td>\n",
       "      <td>-114.99</td>\n",
       "      <td>-114.99</td>\n",
       "      <td>0.0</td>\n",
       "      <td>-114.99</td>\n",
       "      <td>0.0</td>\n",
       "    </tr>\n",
       "    <tr>\n",
       "      <th>4394</th>\n",
       "      <td>paid</td>\n",
       "      <td>114.99</td>\n",
       "      <td>114.99</td>\n",
       "      <td>0.0</td>\n",
       "      <td>114.99</td>\n",
       "      <td>0.0</td>\n",
       "    </tr>\n",
       "    <tr>\n",
       "      <th>4472</th>\n",
       "      <td>paid</td>\n",
       "      <td>109.99</td>\n",
       "      <td>109.99</td>\n",
       "      <td>0.0</td>\n",
       "      <td>109.99</td>\n",
       "      <td>0.0</td>\n",
       "    </tr>\n",
       "    <tr>\n",
       "      <th>...</th>\n",
       "      <td>...</td>\n",
       "      <td>...</td>\n",
       "      <td>...</td>\n",
       "      <td>...</td>\n",
       "      <td>...</td>\n",
       "      <td>...</td>\n",
       "    </tr>\n",
       "    <tr>\n",
       "      <th>13543</th>\n",
       "      <td>paid</td>\n",
       "      <td>129.99</td>\n",
       "      <td>129.99</td>\n",
       "      <td>0.0</td>\n",
       "      <td>129.99</td>\n",
       "      <td>0.0</td>\n",
       "    </tr>\n",
       "    <tr>\n",
       "      <th>13672</th>\n",
       "      <td>paid</td>\n",
       "      <td>239.98</td>\n",
       "      <td>239.98</td>\n",
       "      <td>0.0</td>\n",
       "      <td>239.98</td>\n",
       "      <td>0.0</td>\n",
       "    </tr>\n",
       "    <tr>\n",
       "      <th>13674</th>\n",
       "      <td>paid</td>\n",
       "      <td>99.99</td>\n",
       "      <td>99.99</td>\n",
       "      <td>0.0</td>\n",
       "      <td>99.99</td>\n",
       "      <td>0.0</td>\n",
       "    </tr>\n",
       "    <tr>\n",
       "      <th>13696</th>\n",
       "      <td>paid</td>\n",
       "      <td>-239.98</td>\n",
       "      <td>-239.98</td>\n",
       "      <td>0.0</td>\n",
       "      <td>-239.98</td>\n",
       "      <td>0.0</td>\n",
       "    </tr>\n",
       "    <tr>\n",
       "      <th>13699</th>\n",
       "      <td>paid</td>\n",
       "      <td>-99.99</td>\n",
       "      <td>-99.99</td>\n",
       "      <td>0.0</td>\n",
       "      <td>-99.99</td>\n",
       "      <td>0.0</td>\n",
       "    </tr>\n",
       "  </tbody>\n",
       "</table>\n",
       "<p>441 rows × 6 columns</p>\n",
       "</div>"
      ],
      "text/plain": [
       "      financial_status  returns  net_sales  gross_sales  total_sales  \\\n",
       "4357              paid  -114.99    -114.99          0.0      -114.99   \n",
       "4366              paid   114.99     114.99          0.0       114.99   \n",
       "4391              paid  -114.99    -114.99          0.0      -114.99   \n",
       "4394              paid   114.99     114.99          0.0       114.99   \n",
       "4472              paid   109.99     109.99          0.0       109.99   \n",
       "...                ...      ...        ...          ...          ...   \n",
       "13543             paid   129.99     129.99          0.0       129.99   \n",
       "13672             paid   239.98     239.98          0.0       239.98   \n",
       "13674             paid    99.99      99.99          0.0        99.99   \n",
       "13696             paid  -239.98    -239.98          0.0      -239.98   \n",
       "13699             paid   -99.99     -99.99          0.0       -99.99   \n",
       "\n",
       "       discounts  \n",
       "4357         0.0  \n",
       "4366         0.0  \n",
       "4391         0.0  \n",
       "4394         0.0  \n",
       "4472         0.0  \n",
       "...          ...  \n",
       "13543        0.0  \n",
       "13672        0.0  \n",
       "13674        0.0  \n",
       "13696        0.0  \n",
       "13699        0.0  \n",
       "\n",
       "[441 rows x 6 columns]"
      ]
     },
     "execution_count": 132,
     "metadata": {},
     "output_type": "execute_result"
    }
   ],
   "source": [
    "# The order is paid but have record of return.\n",
    "df_return_paid = df[(df.returns!=0) & (df.financial_status == \"paid\")][[\"financial_status\",\"returns\",\"net_sales\",\"gross_sales\",\"total_sales\",\"discounts\"]]\n",
    "df_return_paid"
   ]
  },
  {
   "cell_type": "code",
   "execution_count": 126,
   "metadata": {},
   "outputs": [
    {
     "data": {
      "text/plain": [
       "218"
      ]
     },
     "execution_count": 126,
     "metadata": {},
     "output_type": "execute_result"
    }
   ],
   "source": [
    "sum(df_return_paid[\"net_sales\"]==df_return_paid.[\"total_sales\"])"
   ]
  },
  {
   "cell_type": "code",
   "execution_count": 133,
   "metadata": {},
   "outputs": [
    {
     "data": {
      "text/plain": [
       "0.0    441\n",
       "Name: gross_sales, dtype: int64"
      ]
     },
     "execution_count": 133,
     "metadata": {},
     "output_type": "execute_result"
    }
   ],
   "source": [
    "df_return_paid.gross_sales.value_counts()"
   ]
  },
  {
   "cell_type": "markdown",
   "metadata": {},
   "source": [
    "### there are 218 orders with positive refund value and \"paid\" financial status. So, modify the refund value to be zero. \n",
    "### all of them has net sales equal to total_sales"
   ]
  },
  {
   "cell_type": "code",
   "execution_count": 130,
   "metadata": {},
   "outputs": [
    {
     "data": {
      "text/html": [
       "<div>\n",
       "<style scoped>\n",
       "    .dataframe tbody tr th:only-of-type {\n",
       "        vertical-align: middle;\n",
       "    }\n",
       "\n",
       "    .dataframe tbody tr th {\n",
       "        vertical-align: top;\n",
       "    }\n",
       "\n",
       "    .dataframe thead th {\n",
       "        text-align: right;\n",
       "    }\n",
       "</style>\n",
       "<table border=\"1\" class=\"dataframe\">\n",
       "  <thead>\n",
       "    <tr style=\"text-align: right;\">\n",
       "      <th></th>\n",
       "      <th>financial_status</th>\n",
       "      <th>returns</th>\n",
       "      <th>net_sales</th>\n",
       "      <th>gross_sales</th>\n",
       "      <th>total_sales</th>\n",
       "      <th>discounts</th>\n",
       "    </tr>\n",
       "  </thead>\n",
       "  <tbody>\n",
       "    <tr>\n",
       "      <th>2521</th>\n",
       "      <td>refunded</td>\n",
       "      <td>-65.00</td>\n",
       "      <td>-65.00</td>\n",
       "      <td>0.0</td>\n",
       "      <td>-71.30</td>\n",
       "      <td>0.0</td>\n",
       "    </tr>\n",
       "    <tr>\n",
       "      <th>2703</th>\n",
       "      <td>refunded</td>\n",
       "      <td>-120.90</td>\n",
       "      <td>-120.90</td>\n",
       "      <td>0.0</td>\n",
       "      <td>-120.90</td>\n",
       "      <td>0.0</td>\n",
       "    </tr>\n",
       "    <tr>\n",
       "      <th>2861</th>\n",
       "      <td>refunded</td>\n",
       "      <td>-110.90</td>\n",
       "      <td>-110.90</td>\n",
       "      <td>0.0</td>\n",
       "      <td>-110.90</td>\n",
       "      <td>0.0</td>\n",
       "    </tr>\n",
       "    <tr>\n",
       "      <th>2867</th>\n",
       "      <td>refunded</td>\n",
       "      <td>-129.99</td>\n",
       "      <td>-129.99</td>\n",
       "      <td>0.0</td>\n",
       "      <td>-129.99</td>\n",
       "      <td>0.0</td>\n",
       "    </tr>\n",
       "    <tr>\n",
       "      <th>3027</th>\n",
       "      <td>refunded</td>\n",
       "      <td>-114.99</td>\n",
       "      <td>-114.99</td>\n",
       "      <td>0.0</td>\n",
       "      <td>-114.99</td>\n",
       "      <td>0.0</td>\n",
       "    </tr>\n",
       "  </tbody>\n",
       "</table>\n",
       "</div>"
      ],
      "text/plain": [
       "     financial_status  returns  net_sales  gross_sales  total_sales  discounts\n",
       "2521         refunded   -65.00     -65.00          0.0       -71.30        0.0\n",
       "2703         refunded  -120.90    -120.90          0.0      -120.90        0.0\n",
       "2861         refunded  -110.90    -110.90          0.0      -110.90        0.0\n",
       "2867         refunded  -129.99    -129.99          0.0      -129.99        0.0\n",
       "3027         refunded  -114.99    -114.99          0.0      -114.99        0.0"
      ]
     },
     "execution_count": 130,
     "metadata": {},
     "output_type": "execute_result"
    }
   ],
   "source": [
    "# The order is refunded and have record of return.\n",
    "df_return_refunded = df[(df.returns<0) & (df.financial_status == \"refunded\")][[\"financial_status\",\"returns\",\"net_sales\",\"gross_sales\",\"total_sales\",\"discounts\"]]\n",
    "df_return_refunded.head()"
   ]
  },
  {
   "cell_type": "markdown",
   "metadata": {},
   "source": [
    "## Adjustment\n",
    "some adjusted order is refunded, some is not. not very meaningful information"
   ]
  },
  {
   "cell_type": "code",
   "execution_count": 140,
   "metadata": {},
   "outputs": [
    {
     "data": {
      "text/plain": [
       "No     12642\n",
       "Yes      629\n",
       "Name: adjustment, dtype: int64"
      ]
     },
     "execution_count": 140,
     "metadata": {},
     "output_type": "execute_result"
    }
   ],
   "source": [
    "df.adjustment.value_counts()"
   ]
  },
  {
   "cell_type": "code",
   "execution_count": 141,
   "metadata": {},
   "outputs": [
    {
     "data": {
      "text/plain": [
       "paid                  10773\n",
       "refunded               1848\n",
       "partially_refunded      640\n",
       "partially_paid            5\n",
       "pending                   5\n",
       "Name: financial_status, dtype: int64"
      ]
     },
     "execution_count": 141,
     "metadata": {},
     "output_type": "execute_result"
    }
   ],
   "source": [
    "df.financial_status.value_counts()"
   ]
  },
  {
   "cell_type": "markdown",
   "metadata": {},
   "source": [
    "## financial status and sales kind\n",
    "Sales kind:<br>\n",
    "in 11762 order, 10330 records' financial status is paid, 1032 is refunded, 393 partially refunded, 3 partially_paid, 4 pending <br>\n",
    "in 1509 returns, 443 is paid, 816 is refunded, 247 is partially refunded, 2 is partially paid, 1 is pending"
   ]
  },
  {
   "cell_type": "code",
   "execution_count": 149,
   "metadata": {},
   "outputs": [
    {
     "name": "stdout",
     "output_type": "stream",
     "text": [
      "10330 1032 393 3 4\n"
     ]
    }
   ],
   "source": [
    "print(df[(df[\"financial_status\"]==\"paid\") & (df[\"sale_kind\"]==\"order\")].shape[0],\n",
    "df[(df[\"financial_status\"]==\"refunded\") & (df[\"sale_kind\"]==\"order\")].shape[0],\n",
    "df[(df[\"financial_status\"]==\"partially_refunded\") & (df[\"sale_kind\"]==\"order\")].shape[0],\n",
    "df[(df[\"financial_status\"]==\"partially_paid\") & (df[\"sale_kind\"]==\"order\")].shape[0],\n",
    "df[(df[\"financial_status\"]==\"pending\") & (df[\"sale_kind\"]==\"order\")].shape[0])"
   ]
  },
  {
   "cell_type": "code",
   "execution_count": 150,
   "metadata": {},
   "outputs": [
    {
     "name": "stdout",
     "output_type": "stream",
     "text": [
      "443 816 247 2 1\n"
     ]
    }
   ],
   "source": [
    "print(df[(df[\"financial_status\"]==\"paid\") & (df[\"sale_kind\"]==\"return\")].shape[0],\n",
    "df[(df[\"financial_status\"]==\"refunded\") & (df[\"sale_kind\"]==\"return\")].shape[0],\n",
    "df[(df[\"financial_status\"]==\"partially_refunded\") & (df[\"sale_kind\"]==\"return\")].shape[0],\n",
    "df[(df[\"financial_status\"]==\"partially_paid\") & (df[\"sale_kind\"]==\"return\")].shape[0],\n",
    "df[(df[\"financial_status\"]==\"pending\") & (df[\"sale_kind\"]==\"return\")].shape[0])"
   ]
  },
  {
   "cell_type": "markdown",
   "metadata": {},
   "source": [
    "## Order Quantity\n",
    "net_quantity:<br>\n",
    "Record the refunded order as different order from the one that's created to buy and later refunded. <br>\n",
    "For each refunded order, there's two records: one is buying, one is refunding<br>\n",
    "\n",
    "ordered_item_quantity:<br>\n",
    "Only record those with trasaction, refunded is recorded as 0. -> 6668 transactions"
   ]
  },
  {
   "cell_type": "code",
   "execution_count": 153,
   "metadata": {},
   "outputs": [
    {
     "data": {
      "text/plain": [
       " 1     6425\n",
       " 0     6373\n",
       "-1      707\n",
       " 2      204\n",
       " 3       19\n",
       "-2        9\n",
       " 4        8\n",
       " 5        7\n",
       " 6        3\n",
       " 12       2\n",
       "-12       1\n",
       "Name: net_quantity, dtype: int64"
      ]
     },
     "execution_count": 153,
     "metadata": {},
     "output_type": "execute_result"
    }
   ],
   "source": [
    "df[\"net_quantity\"].value_counts() "
   ]
  },
  {
   "cell_type": "code",
   "execution_count": 157,
   "metadata": {},
   "outputs": [
    {
     "data": {
      "text/plain": [
       "717"
      ]
     },
     "execution_count": 157,
     "metadata": {},
     "output_type": "execute_result"
    }
   ],
   "source": [
    "sum(df[\"net_quantity\"]<0) #there's 717 refund order record."
   ]
  },
  {
   "cell_type": "code",
   "execution_count": 154,
   "metadata": {},
   "outputs": [
    {
     "data": {
      "text/plain": [
       "0     7090\n",
       "1     6425\n",
       "2      204\n",
       "3       19\n",
       "4        8\n",
       "5        7\n",
       "6        3\n",
       "12       2\n",
       "Name: ordered_item_quantity, dtype: int64"
      ]
     },
     "execution_count": 154,
     "metadata": {},
     "output_type": "execute_result"
    }
   ],
   "source": [
    "df[\"ordered_item_quantity\"].value_counts() #expect from 0, other numbers are right, consistent with above"
   ]
  },
  {
   "cell_type": "code",
   "execution_count": 155,
   "metadata": {},
   "outputs": [
    {
     "data": {
      "text/plain": [
       "6668"
      ]
     },
     "execution_count": 155,
     "metadata": {},
     "output_type": "execute_result"
    }
   ],
   "source": [
    "sum(df[\"ordered_item_quantity\"]>0) # there's transaction. orders = 1 and units_per_transaction > 0"
   ]
  },
  {
   "cell_type": "code",
   "execution_count": 156,
   "metadata": {},
   "outputs": [
    {
     "name": "stdout",
     "output_type": "stream",
     "text": [
      "4867 1304 426 3 3\n"
     ]
    }
   ],
   "source": [
    "#ordered_item_quantity = 0, financial status\n",
    "print(df[(df[\"financial_status\"]==\"paid\") & (df[\"ordered_item_quantity\"]==0)].shape[0],\n",
    "df[(df[\"financial_status\"]==\"refunded\") & (df[\"ordered_item_quantity\"]==0)].shape[0],\n",
    "df[(df[\"financial_status\"]==\"partially_refunded\") & (df[\"ordered_item_quantity\"]==0)].shape[0],\n",
    "df[(df[\"financial_status\"]==\"partially_paid\") & (df[\"ordered_item_quantity\"]==0)].shape[0],\n",
    "df[(df[\"financial_status\"]==\"pending\") & (df[\"ordered_item_quantity\"]==0)].shape[0])\n",
    "# same as order = 0. There's no transaction."
   ]
  },
  {
   "cell_type": "code",
   "execution_count": 158,
   "metadata": {},
   "outputs": [
    {
     "data": {
      "text/plain": [
       "1848"
      ]
     },
     "execution_count": 158,
     "metadata": {},
     "output_type": "execute_result"
    }
   ],
   "source": [
    "sum(df[\"financial_status\"] == \"refunded\") #924 order refunded and there's 1848 record."
   ]
  },
  {
   "cell_type": "code",
   "execution_count": 159,
   "metadata": {},
   "outputs": [],
   "source": [
    "df.to_csv(\"modified_sales.csv\",index=False)"
   ]
  },
  {
   "cell_type": "code",
   "execution_count": null,
   "metadata": {},
   "outputs": [],
   "source": []
  }
 ],
 "metadata": {
  "kernelspec": {
   "display_name": "Python 3",
   "language": "python",
   "name": "python3"
  },
  "language_info": {
   "codemirror_mode": {
    "name": "ipython",
    "version": 3
   },
   "file_extension": ".py",
   "mimetype": "text/x-python",
   "name": "python",
   "nbconvert_exporter": "python",
   "pygments_lexer": "ipython3",
   "version": "3.7.6"
  }
 },
 "nbformat": 4,
 "nbformat_minor": 4
}
