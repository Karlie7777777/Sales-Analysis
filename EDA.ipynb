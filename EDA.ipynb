{
 "cells": [
  {
   "cell_type": "markdown",
   "metadata": {},
   "source": [
    "## Understanding Dataset (Exploratory data analysis)"
   ]
  },
  {
   "cell_type": "code",
   "execution_count": 69,
   "metadata": {},
   "outputs": [],
   "source": [
    "import pandas as pd\n",
    "import numpy as np\n",
    "from collections import Counter"
   ]
  },
  {
   "cell_type": "code",
   "execution_count": 70,
   "metadata": {},
   "outputs": [],
   "source": [
    "df = pd.read_csv(\"sales.csv\")"
   ]
  },
  {
   "cell_type": "code",
   "execution_count": 3,
   "metadata": {},
   "outputs": [],
   "source": [
    "df.shape"
   ]
  },
  {
   "cell_type": "code",
   "execution_count": 2,
   "metadata": {},
   "outputs": [],
   "source": [
    "df[df[\"billing_country\"]==\"China\"].financial_status.value_counts()"
   ]
  },
  {
   "cell_type": "code",
   "execution_count": 1,
   "metadata": {},
   "outputs": [],
   "source": [
    "L = []\n",
    "for i in df[\"variant_sku\"].unique()[1:]:\n",
    "    if i is not None:\n",
    "        L.append(i[0:2])\n",
    "set(L)"
   ]
  },
  {
   "cell_type": "markdown",
   "metadata": {},
   "source": [
    "## Group sku\n",
    "### some of order doesn't have the sku record"
   ]
  },
  {
   "cell_type": "code",
   "execution_count": 47,
   "metadata": {},
   "outputs": [],
   "source": [
    "df = pd.read_csv(\"sales.csv\")"
   ]
  },
  {
   "cell_type": "code",
   "execution_count": 79,
   "metadata": {},
   "outputs": [],
   "source": [
    "df.loc[df.variant_sku==\"False\",\"variant_sku\"]= 0 #delete the \"FALSE\""
   ]
  },
  {
   "cell_type": "code",
   "execution_count": 4,
   "metadata": {},
   "outputs": [],
   "source": [
    "df[\"variant_sku\"].value_counts()"
   ]
  },
  {
   "cell_type": "code",
   "execution_count": 81,
   "metadata": {},
   "outputs": [],
   "source": [
    "df[\"grouped_product\"] = df[\"variant_sku\"].apply(lambda x: int(x[0:2]) if type(x)==str else \"\")"
   ]
  },
  {
   "cell_type": "code",
   "execution_count": 6,
   "metadata": {},
   "outputs": [],
   "source": [
    "df[\"grouped_product\"].value_counts()  # makes sense"
   ]
  },
  {
   "cell_type": "markdown",
   "metadata": {},
   "source": [
    "## Create a column of product name"
   ]
  },
  {
   "cell_type": "code",
   "execution_count": 83,
   "metadata": {},
   "outputs": [],
   "source": [
    "def create_name(group):\n",
    "    if group == 21:\n",
    "        name = \"Women's +20\"\n",
    "    elif group == 41:\n",
    "        name = \"Women's +40\"\n",
    "    elif group == 40:\n",
    "        name = \"Men's +40\"\n",
    "    elif group == 20:\n",
    "        name = \"Men's +20\"\n",
    "    elif group == 22:\n",
    "        name = \"Petite Women's +20\"\n",
    "    elif group == 24:\n",
    "        name = \"Petite Women's +40\"\n",
    "    else:\n",
    "        name = \"\"\n",
    "    return name"
   ]
  },
  {
   "cell_type": "code",
   "execution_count": 84,
   "metadata": {},
   "outputs": [],
   "source": [
    "df[\"product_name\"] = df[\"grouped_product\"].apply(create_name)"
   ]
  },
  {
   "cell_type": "code",
   "execution_count": 7,
   "metadata": {},
   "outputs": [],
   "source": [
    "df[\"product_name\"].value_counts()"
   ]
  },
  {
   "cell_type": "markdown",
   "metadata": {},
   "source": [
    "### How often are customers buying"
   ]
  },
  {
   "cell_type": "code",
   "execution_count": 11,
   "metadata": {},
   "outputs": [],
   "source": [
    "df[\"customer_id\"].value_counts()"
   ]
  },
  {
   "cell_type": "markdown",
   "metadata": {},
   "source": [
    "## Shipping city different from billing city"
   ]
  },
  {
   "cell_type": "code",
   "execution_count": 100,
   "metadata": {},
   "outputs": [],
   "source": [
    "df_subset = df[df.billing_city != df.shipping_city][[\"billing_city\",\"shipping_city\"]] # different"
   ]
  },
  {
   "cell_type": "code",
   "execution_count": 12,
   "metadata": {},
   "outputs": [],
   "source": [
    "df_subset.shape"
   ]
  },
  {
   "cell_type": "code",
   "execution_count": 14,
   "metadata": {},
   "outputs": [],
   "source": [
    "sum(pd.isna(df_subset[\"billing_city\"])==False)"
   ]
  },
  {
   "cell_type": "code",
   "execution_count": 13,
   "metadata": {},
   "outputs": [],
   "source": [
    "sum(pd.isna(df_subset[\"shipping_city\"])==False)"
   ]
  },
  {
   "cell_type": "code",
   "execution_count": 87,
   "metadata": {},
   "outputs": [],
   "source": [
    "df_diff_ship_bill = df[(df.billing_city != df.shipping_city) & (pd.isna(df.billing_city)==False) &(pd.isna(df.shipping_city)==False)]"
   ]
  },
  {
   "cell_type": "code",
   "execution_count": 15,
   "metadata": {},
   "outputs": [],
   "source": [
    "df_diff_ship_bill.shape"
   ]
  },
  {
   "cell_type": "code",
   "execution_count": 16,
   "metadata": {},
   "outputs": [],
   "source": [
    "df_empty_ship_with_bill = df[(pd.isna(df.billing_city)==False) & (pd.isna(df.shipping_city)==True)]\n",
    "df_empty_ship_with_bill[[\"billing_city\",\"shipping_city\"]]"
   ]
  },
  {
   "cell_type": "code",
   "execution_count": 17,
   "metadata": {},
   "outputs": [],
   "source": [
    "# Pairs of different billing_city and shipping_city\n",
    "L = []\n",
    "i = []\n",
    "for index,row in df_diff_ship_bill.iterrows():\n",
    "    i = (row[\"billing_city\"],row[\"shipping_city\"])\n",
    "    L.append(i)\n",
    "new_L = map(tuple,L)\n",
    "Counter(new_L).most_common()"
   ]
  },
  {
   "cell_type": "code",
   "execution_count": 95,
   "metadata": {},
   "outputs": [
    {
     "name": "stderr",
     "output_type": "stream",
     "text": [
      "/Users/xinyifang/opt/anaconda3/lib/python3.7/site-packages/ipykernel_launcher.py:1: SettingWithCopyWarning: \n",
      "A value is trying to be set on a copy of a slice from a DataFrame.\n",
      "Try using .loc[row_indexer,col_indexer] = value instead\n",
      "\n",
      "See the caveats in the documentation: https://pandas.pydata.org/pandas-docs/stable/user_guide/indexing.html#returning-a-view-versus-a-copy\n",
      "  \"\"\"Entry point for launching an IPython kernel.\n"
     ]
    }
   ],
   "source": [
    "df_diff_ship_bill[\"pair\"]= L"
   ]
  },
  {
   "cell_type": "code",
   "execution_count": 18,
   "metadata": {},
   "outputs": [],
   "source": [
    "df_diff_ship_bill[\"pair\"].value_counts() #correct"
   ]
  },
  {
   "cell_type": "code",
   "execution_count": 97,
   "metadata": {},
   "outputs": [],
   "source": [
    "df_diff_ship_bill.to_csv(\"diff_ship_bill_city.csv\",index=False)"
   ]
  },
  {
   "cell_type": "markdown",
   "metadata": {},
   "source": [
    "## Orders - Whether there's any transaction"
   ]
  },
  {
   "cell_type": "code",
   "execution_count": 19,
   "metadata": {},
   "outputs": [],
   "source": [
    "df[\"orders\"].value_counts()"
   ]
  },
  {
   "cell_type": "code",
   "execution_count": 20,
   "metadata": {},
   "outputs": [],
   "source": [
    "df[\"units_per_transaction\"].value_counts()"
   ]
  },
  {
   "cell_type": "code",
   "execution_count": 21,
   "metadata": {},
   "outputs": [],
   "source": [
    "sum(df[\"units_per_transaction\"]>0)"
   ]
  },
  {
   "cell_type": "code",
   "execution_count": 22,
   "metadata": {},
   "outputs": [],
   "source": [
    "df[(df[\"units_per_transaction\"]>0) & (df[\"orders\"]==1)].shape"
   ]
  },
  {
   "cell_type": "code",
   "execution_count": 23,
   "metadata": {},
   "outputs": [],
   "source": [
    "df[df[\"orders\"]==0].order_name  #xxx orders=0"
   ]
  },
  {
   "cell_type": "code",
   "execution_count": 24,
   "metadata": {},
   "outputs": [],
   "source": [
    "df[\"financial_status\"].value_counts()"
   ]
  },
  {
   "cell_type": "code",
   "execution_count": 25,
   "metadata": {},
   "outputs": [],
   "source": [
    "#order = 0, financial status\n",
    "print(df[(df[\"financial_status\"]==\"paid\") & (df[\"orders\"]==0)].shape[0],\n",
    "df[(df[\"financial_status\"]==\"refunded\") & (df[\"orders\"]==0)].shape[0],\n",
    "df[(df[\"financial_status\"]==\"partially_refunded\") & (df[\"orders\"]==0)].shape[0],\n",
    "df[(df[\"financial_status\"]==\"partially_paid\") & (df[\"orders\"]==0)].shape[0],\n",
    "df[(df[\"financial_status\"]==\"pending\") & (df[\"orders\"]==0)].shape[0])"
   ]
  },
  {
   "cell_type": "code",
   "execution_count": 26,
   "metadata": {},
   "outputs": [],
   "source": [
    "#order = 1, financial status\n",
    "print(df[(df[\"financial_status\"]==\"paid\") & (df[\"orders\"]==1)].shape[0],\n",
    "df[(df[\"financial_status\"]==\"refunded\") & (df[\"orders\"]==1)].shape[0],\n",
    "df[(df[\"financial_status\"]==\"partially_refunded\") & (df[\"orders\"]==1)].shape[0],\n",
    "df[(df[\"financial_status\"]==\"partially_paid\") & (df[\"orders\"]==1)].shape[0],\n",
    "df[(df[\"financial_status\"]==\"pending\") & (df[\"orders\"]==1)].shape[0])"
   ]
  },
  {
   "cell_type": "code",
   "execution_count": 27,
   "metadata": {},
   "outputs": [],
   "source": [
    "df[\"cancelled\"].value_counts()"
   ]
  },
  {
   "cell_type": "code",
   "execution_count": 28,
   "metadata": {},
   "outputs": [],
   "source": [
    "df[\"sale_kind\"].value_counts()"
   ]
  },
  {
   "cell_type": "code",
   "execution_count": 29,
   "metadata": {},
   "outputs": [],
   "source": [
    "sum(df.net_sales!=0) #xxx orders has positive net sales, xxx not zero."
   ]
  },
  {
   "cell_type": "code",
   "execution_count": 30,
   "metadata": {},
   "outputs": [],
   "source": [
    "sum(df.total_sales>0)"
   ]
  },
  {
   "cell_type": "markdown",
   "metadata": {},
   "source": [
    "## Returns - modify by financial status"
   ]
  },
  {
   "cell_type": "code",
   "execution_count": 31,
   "metadata": {},
   "outputs": [],
   "source": [
    "df[\"returns\"].value_counts()"
   ]
  },
  {
   "cell_type": "code",
   "execution_count": 32,
   "metadata": {},
   "outputs": [],
   "source": [
    "df[df[\"returns\"]>0][\"returns\"].value_counts()"
   ]
  },
  {
   "cell_type": "code",
   "execution_count": 33,
   "metadata": {},
   "outputs": [],
   "source": [
    "# The order is paid but have record of return.\n",
    "df_return_paid = df[(df.returns!=0) & (df.financial_status == \"paid\")][[\"financial_status\",\"returns\",\"net_sales\",\"gross_sales\",\"total_sales\",\"discounts\"]]\n",
    "df_return_paid"
   ]
  },
  {
   "cell_type": "code",
   "execution_count": 34,
   "metadata": {},
   "outputs": [],
   "source": [
    "sum(df_return_paid[\"net_sales\"]==df_return_paid.[\"total_sales\"])"
   ]
  },
  {
   "cell_type": "code",
   "execution_count": 35,
   "metadata": {},
   "outputs": [],
   "source": [
    "df_return_paid.gross_sales.value_counts()"
   ]
  },
  {
   "cell_type": "code",
   "execution_count": 36,
   "metadata": {},
   "outputs": [],
   "source": [
    "# The order is refunded and have record of return.\n",
    "df_return_refunded = df[(df.returns<0) & (df.financial_status == \"refunded\")][[\"financial_status\",\"returns\",\"net_sales\",\"gross_sales\",\"total_sales\",\"discounts\"]]\n",
    "df_return_refunded.head()"
   ]
  },
  {
   "cell_type": "markdown",
   "metadata": {},
   "source": [
    "## Adjustment\n",
    "some adjusted order is refunded, some is not. not very meaningful information"
   ]
  },
  {
   "cell_type": "code",
   "execution_count": 38,
   "metadata": {},
   "outputs": [],
   "source": [
    "df.adjustment.value_counts()"
   ]
  },
  {
   "cell_type": "code",
   "execution_count": 39,
   "metadata": {},
   "outputs": [],
   "source": [
    "df.financial_status.value_counts()"
   ]
  },
  {
   "cell_type": "markdown",
   "metadata": {},
   "source": [
    "## financial status and sales kind"
   ]
  },
  {
   "cell_type": "code",
   "execution_count": 41,
   "metadata": {},
   "outputs": [],
   "source": [
    "print(df[(df[\"financial_status\"]==\"paid\") & (df[\"sale_kind\"]==\"order\")].shape[0],\n",
    "df[(df[\"financial_status\"]==\"refunded\") & (df[\"sale_kind\"]==\"order\")].shape[0],\n",
    "df[(df[\"financial_status\"]==\"partially_refunded\") & (df[\"sale_kind\"]==\"order\")].shape[0],\n",
    "df[(df[\"financial_status\"]==\"partially_paid\") & (df[\"sale_kind\"]==\"order\")].shape[0],\n",
    "df[(df[\"financial_status\"]==\"pending\") & (df[\"sale_kind\"]==\"order\")].shape[0])"
   ]
  },
  {
   "cell_type": "code",
   "execution_count": 42,
   "metadata": {},
   "outputs": [],
   "source": [
    "print(df[(df[\"financial_status\"]==\"paid\") & (df[\"sale_kind\"]==\"return\")].shape[0],\n",
    "df[(df[\"financial_status\"]==\"refunded\") & (df[\"sale_kind\"]==\"return\")].shape[0],\n",
    "df[(df[\"financial_status\"]==\"partially_refunded\") & (df[\"sale_kind\"]==\"return\")].shape[0],\n",
    "df[(df[\"financial_status\"]==\"partially_paid\") & (df[\"sale_kind\"]==\"return\")].shape[0],\n",
    "df[(df[\"financial_status\"]==\"pending\") & (df[\"sale_kind\"]==\"return\")].shape[0])"
   ]
  },
  {
   "cell_type": "markdown",
   "metadata": {},
   "source": [
    "## Order Quantity"
   ]
  },
  {
   "cell_type": "code",
   "execution_count": 43,
   "metadata": {},
   "outputs": [],
   "source": [
    "df[\"net_quantity\"].value_counts() "
   ]
  },
  {
   "cell_type": "code",
   "execution_count": 44,
   "metadata": {},
   "outputs": [],
   "source": [
    "sum(df[\"net_quantity\"]<0) #there's xxx refund order record."
   ]
  },
  {
   "cell_type": "code",
   "execution_count": 45,
   "metadata": {},
   "outputs": [],
   "source": [
    "df[\"ordered_item_quantity\"].value_counts() #expect from 0, other numbers are right, consistent with above"
   ]
  },
  {
   "cell_type": "code",
   "execution_count": 46,
   "metadata": {},
   "outputs": [],
   "source": [
    "sum(df[\"ordered_item_quantity\"]>0) # there's transaction. orders = 1 and units_per_transaction > 0"
   ]
  },
  {
   "cell_type": "code",
   "execution_count": 47,
   "metadata": {},
   "outputs": [],
   "source": [
    "#ordered_item_quantity = 0, financial status\n",
    "print(df[(df[\"financial_status\"]==\"paid\") & (df[\"ordered_item_quantity\"]==0)].shape[0],\n",
    "df[(df[\"financial_status\"]==\"refunded\") & (df[\"ordered_item_quantity\"]==0)].shape[0],\n",
    "df[(df[\"financial_status\"]==\"partially_refunded\") & (df[\"ordered_item_quantity\"]==0)].shape[0],\n",
    "df[(df[\"financial_status\"]==\"partially_paid\") & (df[\"ordered_item_quantity\"]==0)].shape[0],\n",
    "df[(df[\"financial_status\"]==\"pending\") & (df[\"ordered_item_quantity\"]==0)].shape[0])\n",
    "# same as order = 0. There's no transaction."
   ]
  },
  {
   "cell_type": "code",
   "execution_count": 48,
   "metadata": {},
   "outputs": [],
   "source": [
    "sum(df[\"financial_status\"] == \"refunded\") # xxx order refunded and there's xxx record."
   ]
  },
  {
   "cell_type": "code",
   "execution_count": 49,
   "metadata": {},
   "outputs": [],
   "source": [
    "df.to_csv(\"modified_sales.csv\",index=False)"
   ]
  },
  {
   "cell_type": "code",
   "execution_count": null,
   "metadata": {},
   "outputs": [],
   "source": []
  },
  {
   "cell_type": "code",
   "execution_count": null,
   "metadata": {},
   "outputs": [],
   "source": []
  }
 ],
 "metadata": {
  "kernelspec": {
   "display_name": "Python 3",
   "language": "python",
   "name": "python3"
  },
  "language_info": {
   "codemirror_mode": {
    "name": "ipython",
    "version": 3
   },
   "file_extension": ".py",
   "mimetype": "text/x-python",
   "name": "python",
   "nbconvert_exporter": "python",
   "pygments_lexer": "ipython3",
   "version": "3.7.6"
  }
 },
 "nbformat": 4,
 "nbformat_minor": 4
}
